{
 "cells": [
  {
   "cell_type": "code",
   "execution_count": 1,
   "id": "2f2a8337-20ac-47ce-80fa-29f774824cb5",
   "metadata": {},
   "outputs": [
    {
     "name": "stderr",
     "output_type": "stream",
     "text": [
      "[codecarbon INFO @ 17:25:18] [setup] RAM Tracking...\n",
      "[codecarbon INFO @ 17:25:18] [setup] GPU Tracking...\n",
      "[codecarbon INFO @ 17:25:18] Tracking Nvidia GPU via pynvml\n",
      "[codecarbon INFO @ 17:25:18] [setup] CPU Tracking...\n",
      "[codecarbon WARNING @ 17:25:18] No CPU tracking mode found. Falling back on CPU constant mode.\n",
      "[codecarbon INFO @ 17:25:20] CPU Model on constant consumption mode: AMD Ryzen 5 3600 6-Core Processor\n",
      "[codecarbon INFO @ 17:25:20] >>> Tracker's metadata:\n",
      "[codecarbon INFO @ 17:25:20]   Platform system: Windows-10-10.0.22000-SP0\n",
      "[codecarbon INFO @ 17:25:20]   Python version: 3.8.13\n",
      "[codecarbon INFO @ 17:25:20]   Available RAM : 31.919 GB\n",
      "[codecarbon INFO @ 17:25:20]   CPU count: 12\n",
      "[codecarbon INFO @ 17:25:20]   CPU model: AMD Ryzen 5 3600 6-Core Processor\n",
      "[codecarbon INFO @ 17:25:20]   GPU count: 1\n",
      "[codecarbon INFO @ 17:25:20]   GPU model: 1 x NVIDIA GeForce GTX 1660 SUPER\n"
     ]
    },
    {
     "name": "stdout",
     "output_type": "stream",
     "text": [
      "Epoch 1/10\n",
      "1875/1875 [==============================] - 6s 3ms/step - loss: 0.2378 - accuracy: 0.9279\n",
      "Epoch 2/10\n",
      "1875/1875 [==============================] - 6s 3ms/step - loss: 0.1173 - accuracy: 0.9643\n",
      "Epoch 3/10\n",
      " 724/1875 [==========>...................] - ETA: 3s - loss: 0.0892 - accuracy: 0.9730"
     ]
    },
    {
     "name": "stderr",
     "output_type": "stream",
     "text": [
      "[codecarbon INFO @ 17:25:36] Energy consumed for RAM : 0.000050 kWh. RAM Power : 11.969661712646484 W\n",
      "[codecarbon INFO @ 17:25:36] Energy consumed for all GPUs : 0.000051 kWh. All GPUs Power : 12.304 W\n",
      "[codecarbon INFO @ 17:25:36] Energy consumed for all CPUs : 0.000136 kWh. All CPUs Power : 32.5 W\n",
      "[codecarbon INFO @ 17:25:36] 0.000237 kWh of electricity used since the begining.\n"
     ]
    },
    {
     "name": "stdout",
     "output_type": "stream",
     "text": [
      "1875/1875 [==============================] - 7s 3ms/step - loss: 0.0907 - accuracy: 0.9724\n",
      "Epoch 4/10\n",
      "1875/1875 [==============================] - 7s 4ms/step - loss: 0.0745 - accuracy: 0.9772\n",
      "Epoch 5/10\n",
      "1264/1875 [===================>..........] - ETA: 2s - loss: 0.0631 - accuracy: 0.9808"
     ]
    },
    {
     "name": "stderr",
     "output_type": "stream",
     "text": [
      "[codecarbon INFO @ 17:25:51] Energy consumed for RAM : 0.000100 kWh. RAM Power : 11.969661712646484 W\n",
      "[codecarbon INFO @ 17:25:51] Energy consumed for all GPUs : 0.000100 kWh. All GPUs Power : 11.824 W\n",
      "[codecarbon INFO @ 17:25:51] Energy consumed for all CPUs : 0.000271 kWh. All CPUs Power : 32.5 W\n",
      "[codecarbon INFO @ 17:25:51] 0.000471 kWh of electricity used since the begining.\n"
     ]
    },
    {
     "name": "stdout",
     "output_type": "stream",
     "text": [
      "1875/1875 [==============================] - 6s 3ms/step - loss: 0.0641 - accuracy: 0.9805\n",
      "Epoch 6/10\n",
      "1875/1875 [==============================] - 6s 3ms/step - loss: 0.0572 - accuracy: 0.9825\n",
      "Epoch 7/10\n",
      "1875/1875 [==============================] - 6s 3ms/step - loss: 0.0516 - accuracy: 0.9842\n",
      "Epoch 8/10\n",
      " 129/1875 [=>............................] - ETA: 5s - loss: 0.0511 - accuracy: 0.9835"
     ]
    },
    {
     "name": "stderr",
     "output_type": "stream",
     "text": [
      "[codecarbon INFO @ 17:26:06] Energy consumed for RAM : 0.000149 kWh. RAM Power : 11.969661712646484 W\n",
      "[codecarbon INFO @ 17:26:06] Energy consumed for all GPUs : 0.000147 kWh. All GPUs Power : 11.104000000000001 W\n",
      "[codecarbon INFO @ 17:26:06] Energy consumed for all CPUs : 0.000407 kWh. All CPUs Power : 32.5 W\n",
      "[codecarbon INFO @ 17:26:06] 0.000703 kWh of electricity used since the begining.\n"
     ]
    },
    {
     "name": "stdout",
     "output_type": "stream",
     "text": [
      "1875/1875 [==============================] - 6s 3ms/step - loss: 0.0465 - accuracy: 0.9855\n",
      "Epoch 9/10\n",
      "1875/1875 [==============================] - 6s 3ms/step - loss: 0.0411 - accuracy: 0.9875\n",
      "Epoch 10/10\n",
      " 852/1875 [============>.................] - ETA: 3s - loss: 0.0390 - accuracy: 0.9883"
     ]
    },
    {
     "name": "stderr",
     "output_type": "stream",
     "text": [
      "[codecarbon INFO @ 17:26:21] Energy consumed for RAM : 0.000199 kWh. RAM Power : 11.969661712646484 W\n",
      "[codecarbon INFO @ 17:26:21] Energy consumed for all GPUs : 0.000194 kWh. All GPUs Power : 11.32 W\n",
      "[codecarbon INFO @ 17:26:21] Energy consumed for all CPUs : 0.000542 kWh. All CPUs Power : 32.5 W\n",
      "[codecarbon INFO @ 17:26:21] 0.000935 kWh of electricity used since the begining.\n"
     ]
    },
    {
     "name": "stdout",
     "output_type": "stream",
     "text": [
      "1875/1875 [==============================] - 6s 3ms/step - loss: 0.0405 - accuracy: 0.9879\n"
     ]
    },
    {
     "name": "stderr",
     "output_type": "stream",
     "text": [
      "[codecarbon INFO @ 17:26:24] Energy consumed for RAM : 0.000210 kWh. RAM Power : 11.969661712646484 W\n",
      "[codecarbon INFO @ 17:26:25] Energy consumed for all GPUs : 0.000204 kWh. All GPUs Power : 11.379 W\n",
      "[codecarbon INFO @ 17:26:25] Energy consumed for all CPUs : 0.000571 kWh. All CPUs Power : 32.5 W\n",
      "[codecarbon INFO @ 17:26:25] 0.000985 kWh of electricity used since the begining.\n"
     ]
    },
    {
     "name": "stdout",
     "output_type": "stream",
     "text": [
      "0.00031315576401400665\n"
     ]
    }
   ],
   "source": [
    "import tensorflow as tf\n",
    "\n",
    "from codecarbon import EmissionsTracker\n",
    "\n",
    "mnist = tf.keras.datasets.mnist\n",
    "\n",
    "(x_train, y_train), (x_test, y_test) = mnist.load_data()\n",
    "x_train, x_test = x_train / 255.0, x_test / 255.0\n",
    "\n",
    "\n",
    "model = tf.keras.models.Sequential(\n",
    "    [\n",
    "        tf.keras.layers.Flatten(input_shape=(28, 28)),\n",
    "        tf.keras.layers.Dense(512, activation=\"relu\"),\n",
    "        tf.keras.layers.Dropout(0.2),\n",
    "        tf.keras.layers.Dense(256, activation=\"relu\"),\n",
    "        tf.keras.layers.Dropout(0.2),\n",
    "        tf.keras.layers.Dense(128, activation=\"relu\"),\n",
    "        tf.keras.layers.Dense(10),\n",
    "    ]\n",
    ")\n",
    "\n",
    "loss_fn = tf.keras.losses.SparseCategoricalCrossentropy(from_logits=True)\n",
    "\n",
    "model.compile(optimizer=\"adam\", loss=loss_fn, metrics=[\"accuracy\"])\n",
    "\n",
    "tracker = EmissionsTracker(project_name=\"minist test\",\n",
    "                          output_dir=\"emissions/\")\n",
    "tracker.start()\n",
    "model.fit(x_train, y_train, epochs=10)\n",
    "emissions: float = tracker.stop()\n",
    "print(emissions)"
   ]
  },
  {
   "cell_type": "code",
   "execution_count": null,
   "id": "8587f524-26c1-4615-8c29-b3c11f755c8e",
   "metadata": {},
   "outputs": [],
   "source": []
  }
 ],
 "metadata": {
  "kernelspec": {
   "display_name": "Python 3 (ipykernel)",
   "language": "python",
   "name": "python3"
  },
  "language_info": {
   "codemirror_mode": {
    "name": "ipython",
    "version": 3
   },
   "file_extension": ".py",
   "mimetype": "text/x-python",
   "name": "python",
   "nbconvert_exporter": "python",
   "pygments_lexer": "ipython3",
   "version": "3.8.13"
  }
 },
 "nbformat": 4,
 "nbformat_minor": 5
}

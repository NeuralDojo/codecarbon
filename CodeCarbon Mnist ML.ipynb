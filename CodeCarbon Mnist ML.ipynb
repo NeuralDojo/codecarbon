{
 "cells": [
  {
   "cell_type": "code",
   "execution_count": 1,
   "id": "2f2a8337-20ac-47ce-80fa-29f774824cb5",
   "metadata": {},
   "outputs": [
    {
     "name": "stderr",
     "output_type": "stream",
     "text": [
      "[codecarbon INFO @ 18:30:30] [setup] RAM Tracking...\n",
      "[codecarbon INFO @ 18:30:30] [setup] GPU Tracking...\n",
      "[codecarbon INFO @ 18:30:30] Tracking Nvidia GPU via pynvml\n",
      "[codecarbon INFO @ 18:30:30] [setup] CPU Tracking...\n",
      "[codecarbon WARNING @ 18:30:30] No CPU tracking mode found. Falling back on CPU constant mode.\n",
      "[codecarbon INFO @ 18:30:32] CPU Model on constant consumption mode: AMD Ryzen 5 3600 6-Core Processor\n",
      "[codecarbon INFO @ 18:30:32] >>> Tracker's metadata:\n",
      "[codecarbon INFO @ 18:30:32]   Platform system: Windows-10-10.0.22000-SP0\n",
      "[codecarbon INFO @ 18:30:32]   Python version: 3.8.13\n",
      "[codecarbon INFO @ 18:30:32]   Available RAM : 31.919 GB\n",
      "[codecarbon INFO @ 18:30:32]   CPU count: 12\n",
      "[codecarbon INFO @ 18:30:32]   CPU model: AMD Ryzen 5 3600 6-Core Processor\n",
      "[codecarbon INFO @ 18:30:32]   GPU count: 1\n",
      "[codecarbon INFO @ 18:30:32]   GPU model: 1 x NVIDIA GeForce GTX 1660 SUPER\n"
     ]
    },
    {
     "name": "stdout",
     "output_type": "stream",
     "text": [
      "Epoch 1/10\n",
      "1875/1875 [==============================] - 6s 3ms/step - loss: 0.2327 - accuracy: 0.9306\n",
      "Epoch 2/10\n",
      "1875/1875 [==============================] - 5s 3ms/step - loss: 0.1148 - accuracy: 0.9649\n",
      "Epoch 3/10\n",
      "1593/1875 [========================>.....] - ETA: 0s - loss: 0.0883 - accuracy: 0.9735"
     ]
    },
    {
     "name": "stderr",
     "output_type": "stream",
     "text": [
      "[codecarbon INFO @ 18:30:48] Energy consumed for RAM : 0.000050 kWh. RAM Power : 11.969661712646484 W\n"
     ]
    },
    {
     "name": "stdout",
     "output_type": "stream",
     "text": [
      "1613/1875 [========================>.....] - ETA: 0s - loss: 0.0885 - accuracy: 0.9734"
     ]
    },
    {
     "name": "stderr",
     "output_type": "stream",
     "text": [
      "[codecarbon INFO @ 18:30:48] Energy consumed for all GPUs : 0.000123 kWh. All GPUs Power : 29.513 W\n",
      "[codecarbon INFO @ 18:30:48] Energy consumed for all CPUs : 0.000136 kWh. All CPUs Power : 32.5 W\n",
      "[codecarbon INFO @ 18:30:48] 0.000309 kWh of electricity used since the begining.\n"
     ]
    },
    {
     "name": "stdout",
     "output_type": "stream",
     "text": [
      "1875/1875 [==============================] - 5s 3ms/step - loss: 0.0885 - accuracy: 0.9736\n",
      "Epoch 4/10\n",
      "1875/1875 [==============================] - 5s 3ms/step - loss: 0.0727 - accuracy: 0.9772\n",
      "Epoch 5/10\n",
      "1875/1875 [==============================] - 5s 3ms/step - loss: 0.0656 - accuracy: 0.9799\n",
      "Epoch 6/10\n",
      "1397/1875 [=====================>........] - ETA: 1s - loss: 0.0552 - accuracy: 0.9842"
     ]
    },
    {
     "name": "stderr",
     "output_type": "stream",
     "text": [
      "[codecarbon INFO @ 18:31:03] Energy consumed for RAM : 0.000100 kWh. RAM Power : 11.969661712646484 W\n",
      "[codecarbon INFO @ 18:31:03] Energy consumed for all GPUs : 0.000253 kWh. All GPUs Power : 31.305 W\n"
     ]
    },
    {
     "name": "stdout",
     "output_type": "stream",
     "text": [
      "1412/1875 [=====================>........] - ETA: 1s - loss: 0.0552 - accuracy: 0.9842"
     ]
    },
    {
     "name": "stderr",
     "output_type": "stream",
     "text": [
      "[codecarbon INFO @ 18:31:03] Energy consumed for all CPUs : 0.000271 kWh. All CPUs Power : 32.5 W\n",
      "[codecarbon INFO @ 18:31:03] 0.000624 kWh of electricity used since the begining.\n"
     ]
    },
    {
     "name": "stdout",
     "output_type": "stream",
     "text": [
      "1875/1875 [==============================] - 6s 3ms/step - loss: 0.0566 - accuracy: 0.9834\n",
      "Epoch 7/10\n",
      "1875/1875 [==============================] - 6s 3ms/step - loss: 0.0499 - accuracy: 0.9843\n",
      "Epoch 8/10\n",
      "1875/1875 [==============================] - 5s 3ms/step - loss: 0.0425 - accuracy: 0.9869\n",
      "Epoch 9/10\n",
      " 932/1875 [=============>................] - ETA: 2s - loss: 0.0406 - accuracy: 0.9872"
     ]
    },
    {
     "name": "stderr",
     "output_type": "stream",
     "text": [
      "[codecarbon INFO @ 18:31:18] Energy consumed for RAM : 0.000150 kWh. RAM Power : 11.969661712646484 W\n",
      "[codecarbon INFO @ 18:31:18] Energy consumed for all GPUs : 0.000363 kWh. All GPUs Power : 26.258 W\n",
      "[codecarbon INFO @ 18:31:18] Energy consumed for all CPUs : 0.000406 kWh. All CPUs Power : 32.5 W\n",
      "[codecarbon INFO @ 18:31:18] 0.000919 kWh of electricity used since the begining.\n"
     ]
    },
    {
     "name": "stdout",
     "output_type": "stream",
     "text": [
      "1875/1875 [==============================] - 5s 3ms/step - loss: 0.0433 - accuracy: 0.9868\n",
      "Epoch 10/10\n",
      "1875/1875 [==============================] - 6s 3ms/step - loss: 0.0392 - accuracy: 0.9880\n"
     ]
    },
    {
     "name": "stderr",
     "output_type": "stream",
     "text": [
      "[codecarbon INFO @ 18:31:27] Energy consumed for RAM : 0.000178 kWh. RAM Power : 11.969661712646484 W\n",
      "[codecarbon INFO @ 18:31:27] Energy consumed for all GPUs : 0.000425 kWh. All GPUs Power : 26.319 W\n",
      "[codecarbon INFO @ 18:31:27] Energy consumed for all CPUs : 0.000483 kWh. All CPUs Power : 32.5 W\n",
      "[codecarbon INFO @ 18:31:27] 0.001086 kWh of electricity used since the begining.\n"
     ]
    },
    {
     "name": "stdout",
     "output_type": "stream",
     "text": [
      "0.00034538234851089666\n"
     ]
    }
   ],
   "source": [
    "import tensorflow as tf\n",
    "\n",
    "from codecarbon import EmissionsTracker\n",
    "\n",
    "mnist = tf.keras.datasets.mnist\n",
    "\n",
    "(x_train, y_train), (x_test, y_test) = mnist.load_data()\n",
    "x_train, x_test = x_train / 255.0, x_test / 255.0\n",
    "\n",
    "\n",
    "model = tf.keras.models.Sequential(\n",
    "    [\n",
    "        tf.keras.layers.Flatten(input_shape=(28, 28)),\n",
    "        tf.keras.layers.Dense(512, activation=\"relu\"),\n",
    "        tf.keras.layers.Dropout(0.2),\n",
    "        tf.keras.layers.Dense(256, activation=\"relu\"),\n",
    "        tf.keras.layers.Dropout(0.2),\n",
    "        tf.keras.layers.Dense(128, activation=\"relu\"),\n",
    "        tf.keras.layers.Dense(10),\n",
    "    ]\n",
    ")\n",
    "\n",
    "loss_fn = tf.keras.losses.SparseCategoricalCrossentropy(from_logits=True)\n",
    "\n",
    "model.compile(optimizer=\"adam\", loss=loss_fn, metrics=[\"accuracy\"])\n",
    "\n",
    "tracker = EmissionsTracker(project_name=\"minist test\",\n",
    "                          output_dir=\"emissions/\")\n",
    "tracker.start()\n",
    "model.fit(x_train, y_train, epochs=10)\n",
    "emissions: float = tracker.stop()\n",
    "print(emissions)"
   ]
  },
  {
   "cell_type": "code",
   "execution_count": null,
   "id": "5ed2e446-0a5c-4a4c-b256-2592ba993ed1",
   "metadata": {},
   "outputs": [],
   "source": []
  }
 ],
 "metadata": {
  "kernelspec": {
   "display_name": "Python 3 (ipykernel)",
   "language": "python",
   "name": "python3"
  },
  "language_info": {
   "codemirror_mode": {
    "name": "ipython",
    "version": 3
   },
   "file_extension": ".py",
   "mimetype": "text/x-python",
   "name": "python",
   "nbconvert_exporter": "python",
   "pygments_lexer": "ipython3",
   "version": "3.8.13"
  }
 },
 "nbformat": 4,
 "nbformat_minor": 5
}
